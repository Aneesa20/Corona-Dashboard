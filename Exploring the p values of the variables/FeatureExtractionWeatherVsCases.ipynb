{
 "cells": [
  {
   "cell_type": "code",
   "execution_count": 1,
   "metadata": {},
   "outputs": [],
   "source": [
    "import pandas as pd\n",
    "import numpy as np"
   ]
  },
  {
   "cell_type": "code",
   "execution_count": 2,
   "metadata": {},
   "outputs": [
    {
     "data": {
      "text/html": [
       "<div>\n",
       "<style scoped>\n",
       "    .dataframe tbody tr th:only-of-type {\n",
       "        vertical-align: middle;\n",
       "    }\n",
       "\n",
       "    .dataframe tbody tr th {\n",
       "        vertical-align: top;\n",
       "    }\n",
       "\n",
       "    .dataframe thead th {\n",
       "        text-align: right;\n",
       "    }\n",
       "</style>\n",
       "<table border=\"1\" class=\"dataframe\">\n",
       "  <thead>\n",
       "    <tr style=\"text-align: right;\">\n",
       "      <th></th>\n",
       "      <th>Unnamed: 0</th>\n",
       "      <th>date</th>\n",
       "      <th>windspeedKmph</th>\n",
       "      <th>tempC</th>\n",
       "      <th>humidity</th>\n",
       "      <th>pressure</th>\n",
       "      <th>HeatIndexC</th>\n",
       "      <th>precipMM</th>\n",
       "      <th>date.1</th>\n",
       "      <th>Number</th>\n",
       "    </tr>\n",
       "  </thead>\n",
       "  <tbody>\n",
       "    <tr>\n",
       "      <th>0</th>\n",
       "      <td>0</td>\n",
       "      <td>2020-02-27</td>\n",
       "      <td>16.125</td>\n",
       "      <td>2.125</td>\n",
       "      <td>87.750</td>\n",
       "      <td>1001.750</td>\n",
       "      <td>2.375</td>\n",
       "      <td>1.6875</td>\n",
       "      <td>2020-02-27</td>\n",
       "      <td>1.0</td>\n",
       "    </tr>\n",
       "    <tr>\n",
       "      <th>1</th>\n",
       "      <td>1</td>\n",
       "      <td>2020-02-28</td>\n",
       "      <td>21.750</td>\n",
       "      <td>3.000</td>\n",
       "      <td>81.500</td>\n",
       "      <td>1012.000</td>\n",
       "      <td>3.250</td>\n",
       "      <td>0.4625</td>\n",
       "      <td>2020-02-28</td>\n",
       "      <td>1.0</td>\n",
       "    </tr>\n",
       "    <tr>\n",
       "      <th>2</th>\n",
       "      <td>2</td>\n",
       "      <td>2020-02-29</td>\n",
       "      <td>29.250</td>\n",
       "      <td>8.000</td>\n",
       "      <td>75.500</td>\n",
       "      <td>993.875</td>\n",
       "      <td>8.125</td>\n",
       "      <td>0.8000</td>\n",
       "      <td>2020-02-29</td>\n",
       "      <td>3.0</td>\n",
       "    </tr>\n",
       "    <tr>\n",
       "      <th>3</th>\n",
       "      <td>3</td>\n",
       "      <td>2020-03-01</td>\n",
       "      <td>25.500</td>\n",
       "      <td>5.750</td>\n",
       "      <td>75.875</td>\n",
       "      <td>992.500</td>\n",
       "      <td>5.750</td>\n",
       "      <td>0.1125</td>\n",
       "      <td>2020-03-01</td>\n",
       "      <td>5.0</td>\n",
       "    </tr>\n",
       "    <tr>\n",
       "      <th>4</th>\n",
       "      <td>4</td>\n",
       "      <td>2020-03-02</td>\n",
       "      <td>15.375</td>\n",
       "      <td>5.375</td>\n",
       "      <td>87.250</td>\n",
       "      <td>989.875</td>\n",
       "      <td>5.375</td>\n",
       "      <td>0.8875</td>\n",
       "      <td>2020-03-02</td>\n",
       "      <td>5.0</td>\n",
       "    </tr>\n",
       "  </tbody>\n",
       "</table>\n",
       "</div>"
      ],
      "text/plain": [
       "   Unnamed: 0        date  windspeedKmph  tempC  humidity  pressure  \\\n",
       "0           0  2020-02-27         16.125  2.125    87.750  1001.750   \n",
       "1           1  2020-02-28         21.750  3.000    81.500  1012.000   \n",
       "2           2  2020-02-29         29.250  8.000    75.500   993.875   \n",
       "3           3  2020-03-01         25.500  5.750    75.875   992.500   \n",
       "4           4  2020-03-02         15.375  5.375    87.250   989.875   \n",
       "\n",
       "   HeatIndexC  precipMM      date.1  Number  \n",
       "0       2.375    1.6875  2020-02-27     1.0  \n",
       "1       3.250    0.4625  2020-02-28     1.0  \n",
       "2       8.125    0.8000  2020-02-29     3.0  \n",
       "3       5.750    0.1125  2020-03-01     5.0  \n",
       "4       5.375    0.8875  2020-03-02     5.0  "
      ]
     },
     "execution_count": 2,
     "metadata": {},
     "output_type": "execute_result"
    }
   ],
   "source": [
    "featureData=pd.read_csv(\"TemperatureDatawithCases.csv\")\n",
    "featureData.head(5)"
   ]
  },
  {
   "cell_type": "code",
   "execution_count": 3,
   "metadata": {},
   "outputs": [
    {
     "data": {
      "text/plain": [
       "array(['Unnamed: 0', 'date', 'windspeedKmph', 'tempC', 'humidity',\n",
       "       'pressure', 'HeatIndexC', 'precipMM', 'date.1', 'Number'],\n",
       "      dtype=object)"
      ]
     },
     "execution_count": 3,
     "metadata": {},
     "output_type": "execute_result"
    }
   ],
   "source": [
    "featureData.columns.values"
   ]
  },
  {
   "cell_type": "code",
   "execution_count": 4,
   "metadata": {},
   "outputs": [],
   "source": [
    "copy=featureData.copy"
   ]
  },
  {
   "cell_type": "code",
   "execution_count": 5,
   "metadata": {},
   "outputs": [],
   "source": [
    "featureData=featureData.drop(['Unnamed: 0','date.1'], axis=1)"
   ]
  },
  {
   "cell_type": "code",
   "execution_count": 6,
   "metadata": {},
   "outputs": [
    {
     "name": "stdout",
     "output_type": "stream",
     "text": [
      "<class 'pandas.core.frame.DataFrame'>\n",
      "RangeIndex: 32 entries, 0 to 31\n",
      "Data columns (total 8 columns):\n",
      "date             32 non-null object\n",
      "windspeedKmph    32 non-null float64\n",
      "tempC            32 non-null float64\n",
      "humidity         32 non-null float64\n",
      "pressure         32 non-null float64\n",
      "HeatIndexC       32 non-null float64\n",
      "precipMM         32 non-null float64\n",
      "Number           32 non-null float64\n",
      "dtypes: float64(7), object(1)\n",
      "memory usage: 2.1+ KB\n"
     ]
    }
   ],
   "source": [
    "featureData.info()"
   ]
  },
  {
   "cell_type": "code",
   "execution_count": 7,
   "metadata": {},
   "outputs": [
    {
     "data": {
      "text/plain": [
       "str"
      ]
     },
     "execution_count": 7,
     "metadata": {},
     "output_type": "execute_result"
    }
   ],
   "source": [
    "type(featureData['date'][0])"
   ]
  },
  {
   "cell_type": "code",
   "execution_count": 8,
   "metadata": {},
   "outputs": [],
   "source": [
    "featureData['date'] = pd.to_datetime(featureData['date'])"
   ]
  },
  {
   "cell_type": "code",
   "execution_count": 9,
   "metadata": {},
   "outputs": [
    {
     "data": {
      "text/plain": [
       "pandas.core.series.Series"
      ]
     },
     "execution_count": 9,
     "metadata": {},
     "output_type": "execute_result"
    }
   ],
   "source": [
    "featureData['date'].head()\n",
    "type(featureData['date'])"
   ]
  },
  {
   "cell_type": "code",
   "execution_count": 10,
   "metadata": {},
   "outputs": [],
   "source": [
    "#extract the month value and weekday\n",
    "list_months=[]\n",
    "for i in range(featureData.shape[0]):\n",
    "    list_months.append(featureData['date'][i].month)\n",
    "featureData['Month Value'] = list_months\n"
   ]
  },
  {
   "cell_type": "code",
   "execution_count": 11,
   "metadata": {},
   "outputs": [],
   "source": [
    "def date_to_weekday(date_value):\n",
    "    return date_value.weekday()\n",
    "featureData['Day of the Week'] = featureData['date'].apply(date_to_weekday)"
   ]
  },
  {
   "cell_type": "code",
   "execution_count": 12,
   "metadata": {},
   "outputs": [
    {
     "data": {
      "text/html": [
       "<div>\n",
       "<style scoped>\n",
       "    .dataframe tbody tr th:only-of-type {\n",
       "        vertical-align: middle;\n",
       "    }\n",
       "\n",
       "    .dataframe tbody tr th {\n",
       "        vertical-align: top;\n",
       "    }\n",
       "\n",
       "    .dataframe thead th {\n",
       "        text-align: right;\n",
       "    }\n",
       "</style>\n",
       "<table border=\"1\" class=\"dataframe\">\n",
       "  <thead>\n",
       "    <tr style=\"text-align: right;\">\n",
       "      <th></th>\n",
       "      <th>date</th>\n",
       "      <th>windspeedKmph</th>\n",
       "      <th>tempC</th>\n",
       "      <th>humidity</th>\n",
       "      <th>pressure</th>\n",
       "      <th>HeatIndexC</th>\n",
       "      <th>precipMM</th>\n",
       "      <th>Number</th>\n",
       "      <th>Month Value</th>\n",
       "      <th>Day of the Week</th>\n",
       "    </tr>\n",
       "  </thead>\n",
       "  <tbody>\n",
       "    <tr>\n",
       "      <th>0</th>\n",
       "      <td>2020-02-27</td>\n",
       "      <td>16.125</td>\n",
       "      <td>2.125</td>\n",
       "      <td>87.750</td>\n",
       "      <td>1001.750</td>\n",
       "      <td>2.375</td>\n",
       "      <td>1.6875</td>\n",
       "      <td>1.0</td>\n",
       "      <td>2</td>\n",
       "      <td>3</td>\n",
       "    </tr>\n",
       "    <tr>\n",
       "      <th>1</th>\n",
       "      <td>2020-02-28</td>\n",
       "      <td>21.750</td>\n",
       "      <td>3.000</td>\n",
       "      <td>81.500</td>\n",
       "      <td>1012.000</td>\n",
       "      <td>3.250</td>\n",
       "      <td>0.4625</td>\n",
       "      <td>1.0</td>\n",
       "      <td>2</td>\n",
       "      <td>4</td>\n",
       "    </tr>\n",
       "    <tr>\n",
       "      <th>2</th>\n",
       "      <td>2020-02-29</td>\n",
       "      <td>29.250</td>\n",
       "      <td>8.000</td>\n",
       "      <td>75.500</td>\n",
       "      <td>993.875</td>\n",
       "      <td>8.125</td>\n",
       "      <td>0.8000</td>\n",
       "      <td>3.0</td>\n",
       "      <td>2</td>\n",
       "      <td>5</td>\n",
       "    </tr>\n",
       "    <tr>\n",
       "      <th>3</th>\n",
       "      <td>2020-03-01</td>\n",
       "      <td>25.500</td>\n",
       "      <td>5.750</td>\n",
       "      <td>75.875</td>\n",
       "      <td>992.500</td>\n",
       "      <td>5.750</td>\n",
       "      <td>0.1125</td>\n",
       "      <td>5.0</td>\n",
       "      <td>3</td>\n",
       "      <td>6</td>\n",
       "    </tr>\n",
       "    <tr>\n",
       "      <th>4</th>\n",
       "      <td>2020-03-02</td>\n",
       "      <td>15.375</td>\n",
       "      <td>5.375</td>\n",
       "      <td>87.250</td>\n",
       "      <td>989.875</td>\n",
       "      <td>5.375</td>\n",
       "      <td>0.8875</td>\n",
       "      <td>5.0</td>\n",
       "      <td>3</td>\n",
       "      <td>0</td>\n",
       "    </tr>\n",
       "  </tbody>\n",
       "</table>\n",
       "</div>"
      ],
      "text/plain": [
       "        date  windspeedKmph  tempC  humidity  pressure  HeatIndexC  precipMM  \\\n",
       "0 2020-02-27         16.125  2.125    87.750  1001.750       2.375    1.6875   \n",
       "1 2020-02-28         21.750  3.000    81.500  1012.000       3.250    0.4625   \n",
       "2 2020-02-29         29.250  8.000    75.500   993.875       8.125    0.8000   \n",
       "3 2020-03-01         25.500  5.750    75.875   992.500       5.750    0.1125   \n",
       "4 2020-03-02         15.375  5.375    87.250   989.875       5.375    0.8875   \n",
       "\n",
       "   Number  Month Value  Day of the Week  \n",
       "0     1.0            2                3  \n",
       "1     1.0            2                4  \n",
       "2     3.0            2                5  \n",
       "3     5.0            3                6  \n",
       "4     5.0            3                0  "
      ]
     },
     "execution_count": 12,
     "metadata": {},
     "output_type": "execute_result"
    }
   ],
   "source": [
    "featureData.head()"
   ]
  },
  {
   "cell_type": "code",
   "execution_count": 13,
   "metadata": {},
   "outputs": [],
   "source": [
    "featureData=featureData.drop(['date'],axis=1)"
   ]
  },
  {
   "cell_type": "code",
   "execution_count": 14,
   "metadata": {},
   "outputs": [
    {
     "data": {
      "text/html": [
       "<div>\n",
       "<style scoped>\n",
       "    .dataframe tbody tr th:only-of-type {\n",
       "        vertical-align: middle;\n",
       "    }\n",
       "\n",
       "    .dataframe tbody tr th {\n",
       "        vertical-align: top;\n",
       "    }\n",
       "\n",
       "    .dataframe thead th {\n",
       "        text-align: right;\n",
       "    }\n",
       "</style>\n",
       "<table border=\"1\" class=\"dataframe\">\n",
       "  <thead>\n",
       "    <tr style=\"text-align: right;\">\n",
       "      <th></th>\n",
       "      <th>windspeedKmph</th>\n",
       "      <th>tempC</th>\n",
       "      <th>humidity</th>\n",
       "      <th>pressure</th>\n",
       "      <th>HeatIndexC</th>\n",
       "      <th>precipMM</th>\n",
       "      <th>Number</th>\n",
       "      <th>Month Value</th>\n",
       "      <th>Day of the Week</th>\n",
       "    </tr>\n",
       "  </thead>\n",
       "  <tbody>\n",
       "    <tr>\n",
       "      <th>0</th>\n",
       "      <td>16.125</td>\n",
       "      <td>2.125</td>\n",
       "      <td>87.750</td>\n",
       "      <td>1001.750</td>\n",
       "      <td>2.375</td>\n",
       "      <td>1.6875</td>\n",
       "      <td>1.0</td>\n",
       "      <td>2</td>\n",
       "      <td>3</td>\n",
       "    </tr>\n",
       "    <tr>\n",
       "      <th>1</th>\n",
       "      <td>21.750</td>\n",
       "      <td>3.000</td>\n",
       "      <td>81.500</td>\n",
       "      <td>1012.000</td>\n",
       "      <td>3.250</td>\n",
       "      <td>0.4625</td>\n",
       "      <td>1.0</td>\n",
       "      <td>2</td>\n",
       "      <td>4</td>\n",
       "    </tr>\n",
       "    <tr>\n",
       "      <th>2</th>\n",
       "      <td>29.250</td>\n",
       "      <td>8.000</td>\n",
       "      <td>75.500</td>\n",
       "      <td>993.875</td>\n",
       "      <td>8.125</td>\n",
       "      <td>0.8000</td>\n",
       "      <td>3.0</td>\n",
       "      <td>2</td>\n",
       "      <td>5</td>\n",
       "    </tr>\n",
       "    <tr>\n",
       "      <th>3</th>\n",
       "      <td>25.500</td>\n",
       "      <td>5.750</td>\n",
       "      <td>75.875</td>\n",
       "      <td>992.500</td>\n",
       "      <td>5.750</td>\n",
       "      <td>0.1125</td>\n",
       "      <td>5.0</td>\n",
       "      <td>3</td>\n",
       "      <td>6</td>\n",
       "    </tr>\n",
       "    <tr>\n",
       "      <th>4</th>\n",
       "      <td>15.375</td>\n",
       "      <td>5.375</td>\n",
       "      <td>87.250</td>\n",
       "      <td>989.875</td>\n",
       "      <td>5.375</td>\n",
       "      <td>0.8875</td>\n",
       "      <td>5.0</td>\n",
       "      <td>3</td>\n",
       "      <td>0</td>\n",
       "    </tr>\n",
       "  </tbody>\n",
       "</table>\n",
       "</div>"
      ],
      "text/plain": [
       "   windspeedKmph  tempC  humidity  pressure  HeatIndexC  precipMM  Number  \\\n",
       "0         16.125  2.125    87.750  1001.750       2.375    1.6875     1.0   \n",
       "1         21.750  3.000    81.500  1012.000       3.250    0.4625     1.0   \n",
       "2         29.250  8.000    75.500   993.875       8.125    0.8000     3.0   \n",
       "3         25.500  5.750    75.875   992.500       5.750    0.1125     5.0   \n",
       "4         15.375  5.375    87.250   989.875       5.375    0.8875     5.0   \n",
       "\n",
       "   Month Value  Day of the Week  \n",
       "0            2                3  \n",
       "1            2                4  \n",
       "2            2                5  \n",
       "3            3                6  \n",
       "4            3                0  "
      ]
     },
     "execution_count": 14,
     "metadata": {},
     "output_type": "execute_result"
    }
   ],
   "source": [
    "featureData.head()"
   ]
  },
  {
   "cell_type": "code",
   "execution_count": 15,
   "metadata": {},
   "outputs": [
    {
     "data": {
      "text/plain": [
       "array(['windspeedKmph', 'tempC', 'humidity', 'pressure', 'HeatIndexC',\n",
       "       'precipMM', 'Number', 'Month Value', 'Day of the Week'],\n",
       "      dtype=object)"
      ]
     },
     "execution_count": 15,
     "metadata": {},
     "output_type": "execute_result"
    }
   ],
   "source": [
    "featureData.columns.values"
   ]
  },
  {
   "cell_type": "code",
   "execution_count": 16,
   "metadata": {},
   "outputs": [
    {
     "data": {
      "text/html": [
       "<div>\n",
       "<style scoped>\n",
       "    .dataframe tbody tr th:only-of-type {\n",
       "        vertical-align: middle;\n",
       "    }\n",
       "\n",
       "    .dataframe tbody tr th {\n",
       "        vertical-align: top;\n",
       "    }\n",
       "\n",
       "    .dataframe thead th {\n",
       "        text-align: right;\n",
       "    }\n",
       "</style>\n",
       "<table border=\"1\" class=\"dataframe\">\n",
       "  <thead>\n",
       "    <tr style=\"text-align: right;\">\n",
       "      <th></th>\n",
       "      <th>windspeedKmph</th>\n",
       "      <th>tempC</th>\n",
       "      <th>humidity</th>\n",
       "      <th>pressure</th>\n",
       "      <th>HeatIndexC</th>\n",
       "      <th>precipMM</th>\n",
       "      <th>Month Value</th>\n",
       "      <th>Day of the Week</th>\n",
       "      <th>Number</th>\n",
       "    </tr>\n",
       "  </thead>\n",
       "  <tbody>\n",
       "    <tr>\n",
       "      <th>27</th>\n",
       "      <td>14.875</td>\n",
       "      <td>5.625</td>\n",
       "      <td>44.875</td>\n",
       "      <td>1027.500</td>\n",
       "      <td>5.625</td>\n",
       "      <td>0.0000</td>\n",
       "      <td>3</td>\n",
       "      <td>2</td>\n",
       "      <td>1861.0</td>\n",
       "    </tr>\n",
       "    <tr>\n",
       "      <th>28</th>\n",
       "      <td>19.625</td>\n",
       "      <td>5.250</td>\n",
       "      <td>54.000</td>\n",
       "      <td>1023.375</td>\n",
       "      <td>5.250</td>\n",
       "      <td>0.0000</td>\n",
       "      <td>3</td>\n",
       "      <td>3</td>\n",
       "      <td>2100.0</td>\n",
       "    </tr>\n",
       "    <tr>\n",
       "      <th>29</th>\n",
       "      <td>20.500</td>\n",
       "      <td>8.125</td>\n",
       "      <td>65.875</td>\n",
       "      <td>1020.875</td>\n",
       "      <td>8.125</td>\n",
       "      <td>0.0000</td>\n",
       "      <td>3</td>\n",
       "      <td>4</td>\n",
       "      <td>2426.0</td>\n",
       "    </tr>\n",
       "    <tr>\n",
       "      <th>30</th>\n",
       "      <td>22.125</td>\n",
       "      <td>8.375</td>\n",
       "      <td>68.500</td>\n",
       "      <td>1023.000</td>\n",
       "      <td>8.375</td>\n",
       "      <td>0.0000</td>\n",
       "      <td>3</td>\n",
       "      <td>5</td>\n",
       "      <td>2678.0</td>\n",
       "    </tr>\n",
       "    <tr>\n",
       "      <th>31</th>\n",
       "      <td>27.000</td>\n",
       "      <td>4.375</td>\n",
       "      <td>57.625</td>\n",
       "      <td>1029.375</td>\n",
       "      <td>4.375</td>\n",
       "      <td>0.0875</td>\n",
       "      <td>3</td>\n",
       "      <td>6</td>\n",
       "      <td>2950.0</td>\n",
       "    </tr>\n",
       "  </tbody>\n",
       "</table>\n",
       "</div>"
      ],
      "text/plain": [
       "    windspeedKmph  tempC  humidity  pressure  HeatIndexC  precipMM  \\\n",
       "27         14.875  5.625    44.875  1027.500       5.625    0.0000   \n",
       "28         19.625  5.250    54.000  1023.375       5.250    0.0000   \n",
       "29         20.500  8.125    65.875  1020.875       8.125    0.0000   \n",
       "30         22.125  8.375    68.500  1023.000       8.375    0.0000   \n",
       "31         27.000  4.375    57.625  1029.375       4.375    0.0875   \n",
       "\n",
       "    Month Value  Day of the Week  Number  \n",
       "27            3                2  1861.0  \n",
       "28            3                3  2100.0  \n",
       "29            3                4  2426.0  \n",
       "30            3                5  2678.0  \n",
       "31            3                6  2950.0  "
      ]
     },
     "execution_count": 16,
     "metadata": {},
     "output_type": "execute_result"
    }
   ],
   "source": [
    "columns_updt=['windspeedKmph', 'tempC', 'humidity', 'pressure', 'HeatIndexC',\n",
    "       'precipMM', 'Month Value', 'Day of the Week','Number']\n",
    "featureData=featureData[columns_updt]\n",
    "featureData.tail()"
   ]
  },
  {
   "cell_type": "code",
   "execution_count": 17,
   "metadata": {},
   "outputs": [],
   "source": [
    "data_preprocessed=featureData\n",
    "data_preprocessed.head()\n",
    "data_preprocessed2=data_preprocessed.copy()"
   ]
  },
  {
   "cell_type": "code",
   "execution_count": 18,
   "metadata": {},
   "outputs": [
    {
     "data": {
      "text/plain": [
       "array([1.000e+00, 1.000e+00, 3.000e+00, 5.000e+00, 5.000e+00, 1.200e+01,\n",
       "       1.700e+01, 2.400e+01, 3.400e+01, 5.700e+01, 9.300e+01, 1.350e+02,\n",
       "       1.570e+02, 2.180e+02, 2.660e+02, 3.600e+02, 4.030e+02, 4.460e+02,\n",
       "       5.540e+02, 6.340e+02, 7.280e+02, 8.420e+02, 9.710e+02, 1.139e+03,\n",
       "       1.358e+03, 1.508e+03, 1.685e+03, 1.861e+03, 2.100e+03, 2.426e+03,\n",
       "       2.678e+03, 2.950e+03])"
      ]
     },
     "execution_count": 18,
     "metadata": {},
     "output_type": "execute_result"
    }
   ],
   "source": [
    "targets2 = np.where(data_preprocessed2['Number'] > \n",
    "                   data_preprocessed2['Number'].median(), 1, 0)\n",
    "targets=data_preprocessed['Number']\n",
    "targets=np.array(targets)\n",
    "targets"
   ]
  },
  {
   "cell_type": "code",
   "execution_count": 19,
   "metadata": {},
   "outputs": [],
   "source": [
    "#data_preprocessed['Number']=targets\n",
    "data_preprocessed2['Number'] =targets2"
   ]
  },
  {
   "cell_type": "code",
   "execution_count": 20,
   "metadata": {},
   "outputs": [],
   "source": [
    "data_with_targets = data_preprocessed.drop(['Day of the Week'],axis=1)\n",
    "data_with_targets2 = data_preprocessed2.drop(['Day of the Week'],axis=1)\n"
   ]
  },
  {
   "cell_type": "code",
   "execution_count": 21,
   "metadata": {},
   "outputs": [
    {
     "data": {
      "text/plain": [
       "False"
      ]
     },
     "execution_count": 21,
     "metadata": {},
     "output_type": "execute_result"
    }
   ],
   "source": [
    "data_with_targets is data_preprocessed"
   ]
  },
  {
   "cell_type": "code",
   "execution_count": 22,
   "metadata": {},
   "outputs": [
    {
     "data": {
      "text/plain": [
       "array([1.000e+00, 1.000e+00, 3.000e+00, 5.000e+00, 5.000e+00, 1.200e+01,\n",
       "       1.700e+01, 2.400e+01, 3.400e+01, 5.700e+01, 9.300e+01, 1.350e+02,\n",
       "       1.570e+02, 2.180e+02, 2.660e+02, 3.600e+02, 4.030e+02, 4.460e+02,\n",
       "       5.540e+02, 6.340e+02, 7.280e+02, 8.420e+02, 9.710e+02, 1.139e+03,\n",
       "       1.358e+03, 1.508e+03, 1.685e+03, 1.861e+03, 2.100e+03, 2.426e+03,\n",
       "       2.678e+03, 2.950e+03])"
      ]
     },
     "execution_count": 22,
     "metadata": {},
     "output_type": "execute_result"
    }
   ],
   "source": [
    "data_with_targets.head()\n",
    "targets"
   ]
  },
  {
   "cell_type": "code",
   "execution_count": 23,
   "metadata": {},
   "outputs": [],
   "source": [
    "unscaled_inputs = data_with_targets.iloc[:,:-1]\n",
    "unscaled_inputs2 = data_with_targets2.iloc[:,:-1]"
   ]
  },
  {
   "cell_type": "code",
   "execution_count": 24,
   "metadata": {},
   "outputs": [],
   "source": [
    "#STANDARDIZATION\n",
    "from sklearn.preprocessing import StandardScaler\n",
    "\n",
    "weather_scaler= StandardScaler()\n",
    "weather_scaler2=StandardScaler()"
   ]
  },
  {
   "cell_type": "code",
   "execution_count": 25,
   "metadata": {},
   "outputs": [],
   "source": [
    "from sklearn.base import BaseEstimator, TransformerMixin\n",
    "from sklearn.preprocessing import StandardScaler\n",
    "\n",
    "class CustomScaler(BaseEstimator,TransformerMixin): \n",
    "    \n",
    "    def __init__(self,columns,copy=True,with_mean=True,with_std=True):\n",
    "        self.scaler = StandardScaler(copy,with_mean,with_std)\n",
    "        self.columns = columns\n",
    "        self.mean_ = None\n",
    "        self.var_ = None\n",
    "\n",
    "    def fit(self, X, y=None):\n",
    "        self.scaler.fit(X[self.columns], y)\n",
    "        self.mean_ = np.mean(X[self.columns])\n",
    "        self.var_ = np.var(X[self.columns])\n",
    "        return self\n",
    "\n",
    "    def transform(self, X, y=None, copy=None):\n",
    "        init_col_order = X.columns\n",
    "        X_scaled = pd.DataFrame(self.scaler.transform(X[self.columns]), columns=self.columns)\n",
    "        X_not_scaled = X.loc[:,~X.columns.isin(self.columns)]\n",
    "        return pd.concat([X_not_scaled, X_scaled], axis=1)[init_col_order]"
   ]
  },
  {
   "cell_type": "code",
   "execution_count": 26,
   "metadata": {},
   "outputs": [
    {
     "data": {
      "text/plain": [
       "array(['windspeedKmph', 'tempC', 'humidity', 'pressure', 'HeatIndexC',\n",
       "       'precipMM', 'Month Value'], dtype=object)"
      ]
     },
     "execution_count": 26,
     "metadata": {},
     "output_type": "execute_result"
    }
   ],
   "source": [
    "unscaled_inputs.columns.values\n",
    "unscaled_inputs2.columns.values"
   ]
  },
  {
   "cell_type": "code",
   "execution_count": 27,
   "metadata": {},
   "outputs": [],
   "source": [
    "columns_to_omit=[]\n",
    "columns_to_scale = [x for x in unscaled_inputs.columns.values if x not in columns_to_omit]\n",
    "columns_to_scale2 = [x for x in unscaled_inputs2.columns.values if x not in columns_to_omit]\n"
   ]
  },
  {
   "cell_type": "code",
   "execution_count": 28,
   "metadata": {},
   "outputs": [],
   "source": [
    "weather_scaler = CustomScaler(columns_to_scale)\n",
    "weather_scaler2 = CustomScaler(columns_to_scale2)"
   ]
  },
  {
   "cell_type": "code",
   "execution_count": 29,
   "metadata": {},
   "outputs": [
    {
     "name": "stderr",
     "output_type": "stream",
     "text": [
      "C:\\Users\\20195478\\python\\lib\\site-packages\\sklearn\\base.py:197: FutureWarning: From version 0.24, get_params will raise an AttributeError if a parameter cannot be retrieved as an instance attribute. Previously it would return None.\n",
      "  FutureWarning)\n"
     ]
    },
    {
     "data": {
      "text/plain": [
       "CustomScaler(columns=['windspeedKmph', 'tempC', 'humidity', 'pressure',\n",
       "                      'HeatIndexC', 'precipMM', 'Month Value'],\n",
       "             copy=None, with_mean=None, with_std=None)"
      ]
     },
     "execution_count": 29,
     "metadata": {},
     "output_type": "execute_result"
    }
   ],
   "source": [
    "weather_scaler.fit(unscaled_inputs)\n",
    "weather_scaler2.fit(unscaled_inputs2)"
   ]
  },
  {
   "cell_type": "code",
   "execution_count": 30,
   "metadata": {},
   "outputs": [],
   "source": [
    "scaled_inputs = weather_scaler.transform(unscaled_inputs)\n",
    "scaled_inputs2 = weather_scaler2.transform(unscaled_inputs2)"
   ]
  },
  {
   "cell_type": "code",
   "execution_count": 31,
   "metadata": {},
   "outputs": [
    {
     "data": {
      "text/html": [
       "<div>\n",
       "<style scoped>\n",
       "    .dataframe tbody tr th:only-of-type {\n",
       "        vertical-align: middle;\n",
       "    }\n",
       "\n",
       "    .dataframe tbody tr th {\n",
       "        vertical-align: top;\n",
       "    }\n",
       "\n",
       "    .dataframe thead th {\n",
       "        text-align: right;\n",
       "    }\n",
       "</style>\n",
       "<table border=\"1\" class=\"dataframe\">\n",
       "  <thead>\n",
       "    <tr style=\"text-align: right;\">\n",
       "      <th></th>\n",
       "      <th>windspeedKmph</th>\n",
       "      <th>tempC</th>\n",
       "      <th>humidity</th>\n",
       "      <th>pressure</th>\n",
       "      <th>HeatIndexC</th>\n",
       "      <th>precipMM</th>\n",
       "      <th>Month Value</th>\n",
       "    </tr>\n",
       "  </thead>\n",
       "  <tbody>\n",
       "    <tr>\n",
       "      <th>0</th>\n",
       "      <td>-0.608130</td>\n",
       "      <td>-2.085009</td>\n",
       "      <td>1.168829</td>\n",
       "      <td>-1.041339</td>\n",
       "      <td>-1.980927</td>\n",
       "      <td>1.792850</td>\n",
       "      <td>-3.109126</td>\n",
       "    </tr>\n",
       "    <tr>\n",
       "      <th>1</th>\n",
       "      <td>0.334504</td>\n",
       "      <td>-1.696455</td>\n",
       "      <td>0.695619</td>\n",
       "      <td>-0.223233</td>\n",
       "      <td>-1.596081</td>\n",
       "      <td>0.025918</td>\n",
       "      <td>-3.109126</td>\n",
       "    </tr>\n",
       "    <tr>\n",
       "      <th>2</th>\n",
       "      <td>1.591351</td>\n",
       "      <td>0.523854</td>\n",
       "      <td>0.241337</td>\n",
       "      <td>-1.669884</td>\n",
       "      <td>0.548062</td>\n",
       "      <td>0.512726</td>\n",
       "      <td>-3.109126</td>\n",
       "    </tr>\n",
       "    <tr>\n",
       "      <th>3</th>\n",
       "      <td>0.962928</td>\n",
       "      <td>-0.475285</td>\n",
       "      <td>0.269730</td>\n",
       "      <td>-1.779630</td>\n",
       "      <td>-0.496520</td>\n",
       "      <td>-0.478920</td>\n",
       "      <td>0.321634</td>\n",
       "    </tr>\n",
       "    <tr>\n",
       "      <th>4</th>\n",
       "      <td>-0.733815</td>\n",
       "      <td>-0.641808</td>\n",
       "      <td>1.130972</td>\n",
       "      <td>-1.989145</td>\n",
       "      <td>-0.661454</td>\n",
       "      <td>0.638935</td>\n",
       "      <td>0.321634</td>\n",
       "    </tr>\n",
       "    <tr>\n",
       "      <th>5</th>\n",
       "      <td>-0.650025</td>\n",
       "      <td>-0.808331</td>\n",
       "      <td>0.402229</td>\n",
       "      <td>-1.111177</td>\n",
       "      <td>-0.826389</td>\n",
       "      <td>-0.280591</td>\n",
       "      <td>0.321634</td>\n",
       "    </tr>\n",
       "    <tr>\n",
       "      <th>6</th>\n",
       "      <td>-0.922342</td>\n",
       "      <td>-0.253254</td>\n",
       "      <td>0.619905</td>\n",
       "      <td>-0.432748</td>\n",
       "      <td>-0.276608</td>\n",
       "      <td>-0.496950</td>\n",
       "      <td>0.321634</td>\n",
       "    </tr>\n",
       "    <tr>\n",
       "      <th>7</th>\n",
       "      <td>-0.272971</td>\n",
       "      <td>-0.364269</td>\n",
       "      <td>1.301328</td>\n",
       "      <td>-1.480323</td>\n",
       "      <td>-0.386564</td>\n",
       "      <td>1.883000</td>\n",
       "      <td>0.321634</td>\n",
       "    </tr>\n",
       "    <tr>\n",
       "      <th>8</th>\n",
       "      <td>-0.000655</td>\n",
       "      <td>-0.586300</td>\n",
       "      <td>1.168829</td>\n",
       "      <td>-1.610022</td>\n",
       "      <td>-0.606476</td>\n",
       "      <td>2.027239</td>\n",
       "      <td>0.321634</td>\n",
       "    </tr>\n",
       "    <tr>\n",
       "      <th>9</th>\n",
       "      <td>-0.985184</td>\n",
       "      <td>-0.308762</td>\n",
       "      <td>0.402229</td>\n",
       "      <td>0.076074</td>\n",
       "      <td>-0.331586</td>\n",
       "      <td>-0.623159</td>\n",
       "      <td>0.321634</td>\n",
       "    </tr>\n",
       "    <tr>\n",
       "      <th>10</th>\n",
       "      <td>0.879138</td>\n",
       "      <td>0.412839</td>\n",
       "      <td>0.771332</td>\n",
       "      <td>-0.233210</td>\n",
       "      <td>0.383128</td>\n",
       "      <td>0.025918</td>\n",
       "      <td>0.321634</td>\n",
       "    </tr>\n",
       "    <tr>\n",
       "      <th>11</th>\n",
       "      <td>-0.126339</td>\n",
       "      <td>-0.031223</td>\n",
       "      <td>0.733476</td>\n",
       "      <td>-0.283095</td>\n",
       "      <td>-0.056696</td>\n",
       "      <td>-0.316651</td>\n",
       "      <td>0.321634</td>\n",
       "    </tr>\n",
       "    <tr>\n",
       "      <th>12</th>\n",
       "      <td>1.675140</td>\n",
       "      <td>0.856901</td>\n",
       "      <td>1.206686</td>\n",
       "      <td>-0.722078</td>\n",
       "      <td>1.152821</td>\n",
       "      <td>2.892676</td>\n",
       "      <td>0.321634</td>\n",
       "    </tr>\n",
       "    <tr>\n",
       "      <th>13</th>\n",
       "      <td>0.481136</td>\n",
       "      <td>1.745024</td>\n",
       "      <td>0.979545</td>\n",
       "      <td>-0.422771</td>\n",
       "      <td>1.867535</td>\n",
       "      <td>2.009210</td>\n",
       "      <td>0.321634</td>\n",
       "    </tr>\n",
       "    <tr>\n",
       "      <th>14</th>\n",
       "      <td>2.240721</td>\n",
       "      <td>0.912408</td>\n",
       "      <td>-0.383300</td>\n",
       "      <td>-0.472656</td>\n",
       "      <td>0.932908</td>\n",
       "      <td>0.783175</td>\n",
       "      <td>0.321634</td>\n",
       "    </tr>\n",
       "    <tr>\n",
       "      <th>15</th>\n",
       "      <td>0.837243</td>\n",
       "      <td>-0.086731</td>\n",
       "      <td>0.070982</td>\n",
       "      <td>0.026189</td>\n",
       "      <td>-0.111674</td>\n",
       "      <td>-0.496950</td>\n",
       "      <td>0.321634</td>\n",
       "    </tr>\n",
       "    <tr>\n",
       "      <th>16</th>\n",
       "      <td>-0.964237</td>\n",
       "      <td>-0.031223</td>\n",
       "      <td>0.487406</td>\n",
       "      <td>0.375381</td>\n",
       "      <td>-0.056696</td>\n",
       "      <td>-0.551040</td>\n",
       "      <td>0.321634</td>\n",
       "    </tr>\n",
       "    <tr>\n",
       "      <th>17</th>\n",
       "      <td>-0.000655</td>\n",
       "      <td>1.023424</td>\n",
       "      <td>0.572584</td>\n",
       "      <td>-0.063603</td>\n",
       "      <td>0.987886</td>\n",
       "      <td>-0.605129</td>\n",
       "      <td>0.321634</td>\n",
       "    </tr>\n",
       "    <tr>\n",
       "      <th>18</th>\n",
       "      <td>-2.074451</td>\n",
       "      <td>1.689516</td>\n",
       "      <td>0.421157</td>\n",
       "      <td>0.265635</td>\n",
       "      <td>1.647623</td>\n",
       "      <td>-0.623159</td>\n",
       "      <td>0.321634</td>\n",
       "    </tr>\n",
       "    <tr>\n",
       "      <th>19</th>\n",
       "      <td>-1.173711</td>\n",
       "      <td>0.912408</td>\n",
       "      <td>-0.742940</td>\n",
       "      <td>1.053810</td>\n",
       "      <td>0.877930</td>\n",
       "      <td>-0.641189</td>\n",
       "      <td>0.321634</td>\n",
       "    </tr>\n",
       "    <tr>\n",
       "      <th>20</th>\n",
       "      <td>-0.922342</td>\n",
       "      <td>1.800532</td>\n",
       "      <td>-0.042589</td>\n",
       "      <td>0.924110</td>\n",
       "      <td>1.757579</td>\n",
       "      <td>-0.641189</td>\n",
       "      <td>0.321634</td>\n",
       "    </tr>\n",
       "    <tr>\n",
       "      <th>21</th>\n",
       "      <td>-1.990661</td>\n",
       "      <td>1.800532</td>\n",
       "      <td>0.477942</td>\n",
       "      <td>0.844295</td>\n",
       "      <td>1.757579</td>\n",
       "      <td>-0.641189</td>\n",
       "      <td>0.321634</td>\n",
       "    </tr>\n",
       "    <tr>\n",
       "      <th>22</th>\n",
       "      <td>0.271662</td>\n",
       "      <td>0.468346</td>\n",
       "      <td>-0.203480</td>\n",
       "      <td>0.924110</td>\n",
       "      <td>0.438106</td>\n",
       "      <td>-0.551040</td>\n",
       "      <td>0.321634</td>\n",
       "    </tr>\n",
       "    <tr>\n",
       "      <th>23</th>\n",
       "      <td>0.921033</td>\n",
       "      <td>-0.752824</td>\n",
       "      <td>-0.600977</td>\n",
       "      <td>1.063787</td>\n",
       "      <td>-0.771410</td>\n",
       "      <td>-0.641189</td>\n",
       "      <td>0.321634</td>\n",
       "    </tr>\n",
       "    <tr>\n",
       "      <th>24</th>\n",
       "      <td>0.858190</td>\n",
       "      <td>-1.030362</td>\n",
       "      <td>-1.452755</td>\n",
       "      <td>1.273302</td>\n",
       "      <td>-1.046301</td>\n",
       "      <td>-0.641189</td>\n",
       "      <td>0.321634</td>\n",
       "    </tr>\n",
       "    <tr>\n",
       "      <th>25</th>\n",
       "      <td>-0.021602</td>\n",
       "      <td>-1.141378</td>\n",
       "      <td>-2.134178</td>\n",
       "      <td>1.412979</td>\n",
       "      <td>-1.156257</td>\n",
       "      <td>-0.641189</td>\n",
       "      <td>0.321634</td>\n",
       "    </tr>\n",
       "    <tr>\n",
       "      <th>26</th>\n",
       "      <td>-0.503393</td>\n",
       "      <td>-0.808331</td>\n",
       "      <td>-2.209891</td>\n",
       "      <td>1.293256</td>\n",
       "      <td>-0.826389</td>\n",
       "      <td>-0.641189</td>\n",
       "      <td>0.321634</td>\n",
       "    </tr>\n",
       "    <tr>\n",
       "      <th>27</th>\n",
       "      <td>-0.817605</td>\n",
       "      <td>-0.530793</td>\n",
       "      <td>-2.077392</td>\n",
       "      <td>1.013903</td>\n",
       "      <td>-0.551498</td>\n",
       "      <td>-0.641189</td>\n",
       "      <td>0.321634</td>\n",
       "    </tr>\n",
       "    <tr>\n",
       "      <th>28</th>\n",
       "      <td>-0.021602</td>\n",
       "      <td>-0.697316</td>\n",
       "      <td>-1.386506</td>\n",
       "      <td>0.684665</td>\n",
       "      <td>-0.716432</td>\n",
       "      <td>-0.641189</td>\n",
       "      <td>0.321634</td>\n",
       "    </tr>\n",
       "    <tr>\n",
       "      <th>29</th>\n",
       "      <td>0.125030</td>\n",
       "      <td>0.579362</td>\n",
       "      <td>-0.487406</td>\n",
       "      <td>0.485127</td>\n",
       "      <td>0.548062</td>\n",
       "      <td>-0.641189</td>\n",
       "      <td>0.321634</td>\n",
       "    </tr>\n",
       "    <tr>\n",
       "      <th>30</th>\n",
       "      <td>0.397347</td>\n",
       "      <td>0.690377</td>\n",
       "      <td>-0.288658</td>\n",
       "      <td>0.654734</td>\n",
       "      <td>0.658018</td>\n",
       "      <td>-0.641189</td>\n",
       "      <td>0.321634</td>\n",
       "    </tr>\n",
       "    <tr>\n",
       "      <th>31</th>\n",
       "      <td>1.214297</td>\n",
       "      <td>-1.085870</td>\n",
       "      <td>-1.112044</td>\n",
       "      <td>1.163556</td>\n",
       "      <td>-1.101279</td>\n",
       "      <td>-0.514980</td>\n",
       "      <td>0.321634</td>\n",
       "    </tr>\n",
       "  </tbody>\n",
       "</table>\n",
       "</div>"
      ],
      "text/plain": [
       "    windspeedKmph     tempC  humidity  pressure  HeatIndexC  precipMM  \\\n",
       "0       -0.608130 -2.085009  1.168829 -1.041339   -1.980927  1.792850   \n",
       "1        0.334504 -1.696455  0.695619 -0.223233   -1.596081  0.025918   \n",
       "2        1.591351  0.523854  0.241337 -1.669884    0.548062  0.512726   \n",
       "3        0.962928 -0.475285  0.269730 -1.779630   -0.496520 -0.478920   \n",
       "4       -0.733815 -0.641808  1.130972 -1.989145   -0.661454  0.638935   \n",
       "5       -0.650025 -0.808331  0.402229 -1.111177   -0.826389 -0.280591   \n",
       "6       -0.922342 -0.253254  0.619905 -0.432748   -0.276608 -0.496950   \n",
       "7       -0.272971 -0.364269  1.301328 -1.480323   -0.386564  1.883000   \n",
       "8       -0.000655 -0.586300  1.168829 -1.610022   -0.606476  2.027239   \n",
       "9       -0.985184 -0.308762  0.402229  0.076074   -0.331586 -0.623159   \n",
       "10       0.879138  0.412839  0.771332 -0.233210    0.383128  0.025918   \n",
       "11      -0.126339 -0.031223  0.733476 -0.283095   -0.056696 -0.316651   \n",
       "12       1.675140  0.856901  1.206686 -0.722078    1.152821  2.892676   \n",
       "13       0.481136  1.745024  0.979545 -0.422771    1.867535  2.009210   \n",
       "14       2.240721  0.912408 -0.383300 -0.472656    0.932908  0.783175   \n",
       "15       0.837243 -0.086731  0.070982  0.026189   -0.111674 -0.496950   \n",
       "16      -0.964237 -0.031223  0.487406  0.375381   -0.056696 -0.551040   \n",
       "17      -0.000655  1.023424  0.572584 -0.063603    0.987886 -0.605129   \n",
       "18      -2.074451  1.689516  0.421157  0.265635    1.647623 -0.623159   \n",
       "19      -1.173711  0.912408 -0.742940  1.053810    0.877930 -0.641189   \n",
       "20      -0.922342  1.800532 -0.042589  0.924110    1.757579 -0.641189   \n",
       "21      -1.990661  1.800532  0.477942  0.844295    1.757579 -0.641189   \n",
       "22       0.271662  0.468346 -0.203480  0.924110    0.438106 -0.551040   \n",
       "23       0.921033 -0.752824 -0.600977  1.063787   -0.771410 -0.641189   \n",
       "24       0.858190 -1.030362 -1.452755  1.273302   -1.046301 -0.641189   \n",
       "25      -0.021602 -1.141378 -2.134178  1.412979   -1.156257 -0.641189   \n",
       "26      -0.503393 -0.808331 -2.209891  1.293256   -0.826389 -0.641189   \n",
       "27      -0.817605 -0.530793 -2.077392  1.013903   -0.551498 -0.641189   \n",
       "28      -0.021602 -0.697316 -1.386506  0.684665   -0.716432 -0.641189   \n",
       "29       0.125030  0.579362 -0.487406  0.485127    0.548062 -0.641189   \n",
       "30       0.397347  0.690377 -0.288658  0.654734    0.658018 -0.641189   \n",
       "31       1.214297 -1.085870 -1.112044  1.163556   -1.101279 -0.514980   \n",
       "\n",
       "    Month Value  \n",
       "0     -3.109126  \n",
       "1     -3.109126  \n",
       "2     -3.109126  \n",
       "3      0.321634  \n",
       "4      0.321634  \n",
       "5      0.321634  \n",
       "6      0.321634  \n",
       "7      0.321634  \n",
       "8      0.321634  \n",
       "9      0.321634  \n",
       "10     0.321634  \n",
       "11     0.321634  \n",
       "12     0.321634  \n",
       "13     0.321634  \n",
       "14     0.321634  \n",
       "15     0.321634  \n",
       "16     0.321634  \n",
       "17     0.321634  \n",
       "18     0.321634  \n",
       "19     0.321634  \n",
       "20     0.321634  \n",
       "21     0.321634  \n",
       "22     0.321634  \n",
       "23     0.321634  \n",
       "24     0.321634  \n",
       "25     0.321634  \n",
       "26     0.321634  \n",
       "27     0.321634  \n",
       "28     0.321634  \n",
       "29     0.321634  \n",
       "30     0.321634  \n",
       "31     0.321634  "
      ]
     },
     "execution_count": 31,
     "metadata": {},
     "output_type": "execute_result"
    }
   ],
   "source": [
    "scaled_inputs\n",
    "scaled_inputs2"
   ]
  },
  {
   "cell_type": "code",
   "execution_count": 32,
   "metadata": {},
   "outputs": [
    {
     "data": {
      "text/plain": [
       "array([1.000e+00, 1.000e+00, 3.000e+00, 5.000e+00, 5.000e+00, 1.200e+01,\n",
       "       1.700e+01, 2.400e+01, 3.400e+01, 5.700e+01, 9.300e+01, 1.350e+02,\n",
       "       1.570e+02, 2.180e+02, 2.660e+02, 3.600e+02, 4.030e+02, 4.460e+02,\n",
       "       5.540e+02, 6.340e+02, 7.280e+02, 8.420e+02, 9.710e+02, 1.139e+03,\n",
       "       1.358e+03, 1.508e+03, 1.685e+03, 1.861e+03, 2.100e+03, 2.426e+03,\n",
       "       2.678e+03, 2.950e+03])"
      ]
     },
     "execution_count": 32,
     "metadata": {},
     "output_type": "execute_result"
    }
   ],
   "source": [
    "from sklearn.model_selection import train_test_split\n",
    "targets"
   ]
  },
  {
   "cell_type": "code",
   "execution_count": 45,
   "metadata": {},
   "outputs": [
    {
     "data": {
      "text/plain": [
       "[    windspeedKmph   tempC  humidity  pressure  HeatIndexC  precipMM  \\\n",
       " 4          15.375   5.375    87.250   989.875       5.375    0.8875   \n",
       " 13         22.625  10.750    85.250  1009.500      11.125    1.8375   \n",
       " 3          25.500   5.750    75.875   992.500       5.750    0.1125   \n",
       " 18          7.375  10.625    77.875  1018.125      10.625    0.0125   \n",
       " 2          29.250   8.000    75.500   993.875       8.125    0.8000   \n",
       " 9          13.875   6.125    77.625  1015.750       6.125    0.0125   \n",
       " 28         19.625   5.250    54.000  1023.375       5.250    0.0000   \n",
       " 25         19.625   4.250    44.125  1032.500       4.250    0.0000   \n",
       " 26         16.750   5.000    43.125  1031.000       5.000    0.0000   \n",
       " 21          7.875  10.875    78.625  1025.375      10.875    0.0000   \n",
       " 20         14.250  10.875    71.750  1026.375      10.875    0.0000   \n",
       " 11         19.000   6.750    82.000  1011.250       6.750    0.2250   \n",
       " 30         22.125   8.375    68.500  1023.000       8.375    0.0000   \n",
       " 27         14.875   5.625    44.875  1027.500       5.625    0.0000   \n",
       " 7          18.125   6.000    89.500   996.250       6.000    1.7500   \n",
       " 14         33.125   8.875    67.250  1008.875       9.000    0.9875   \n",
       " 0          16.125   2.125    87.750  1001.750       2.375    1.6875   \n",
       " 10         25.000   7.750    82.500  1011.875       7.750    0.4625   \n",
       " 19         12.750   8.875    62.500  1028.000       8.875    0.0000   \n",
       " 29         20.500   8.125    65.875  1020.875       8.125    0.0000   \n",
       " 6          14.250   6.250    80.500  1009.375       6.250    0.1000   \n",
       " 17         19.750   9.125    79.875  1014.000       9.125    0.0250   \n",
       " 31         27.000   4.375    57.625  1029.375       4.375    0.0875   \n",
       " 24         24.875   4.500    53.125  1030.750       4.500    0.0000   \n",
       " \n",
       "     Month Value  \n",
       " 4             3  \n",
       " 13            3  \n",
       " 3             3  \n",
       " 18            3  \n",
       " 2             2  \n",
       " 9             3  \n",
       " 28            3  \n",
       " 25            3  \n",
       " 26            3  \n",
       " 21            3  \n",
       " 20            3  \n",
       " 11            3  \n",
       " 30            3  \n",
       " 27            3  \n",
       " 7             3  \n",
       " 14            3  \n",
       " 0             2  \n",
       " 10            3  \n",
       " 19            3  \n",
       " 29            3  \n",
       " 6             3  \n",
       " 17            3  \n",
       " 31            3  \n",
       " 24            3  ,\n",
       "     windspeedKmph  tempC  humidity  pressure  HeatIndexC  precipMM  \\\n",
       " 23         25.250  5.125    64.375  1028.125       5.125    0.0000   \n",
       " 1          21.750  3.000    81.500  1012.000       3.250    0.4625   \n",
       " 15         24.750  6.625    73.250  1015.125       6.625    0.1000   \n",
       " 8          19.750  5.500    87.750   994.625       5.500    1.8500   \n",
       " 16         14.000  6.750    78.750  1019.500       6.750    0.0625   \n",
       " 22         21.375  7.875    69.625  1026.375       7.875    0.0625   \n",
       " 5          15.875  5.000    77.625  1000.875       5.000    0.2500   \n",
       " 12         29.750  8.750    88.250  1005.750       9.500    2.4500   \n",
       " \n",
       "     Month Value  \n",
       " 23            3  \n",
       " 1             2  \n",
       " 15            3  \n",
       " 8             3  \n",
       " 16            3  \n",
       " 22            3  \n",
       " 5             3  \n",
       " 12            3  ,\n",
       " array([5.000e+00, 2.180e+02, 5.000e+00, 5.540e+02, 3.000e+00, 5.700e+01,\n",
       "        2.100e+03, 1.508e+03, 1.685e+03, 8.420e+02, 7.280e+02, 1.350e+02,\n",
       "        2.678e+03, 1.861e+03, 2.400e+01, 2.660e+02, 1.000e+00, 9.300e+01,\n",
       "        6.340e+02, 2.426e+03, 1.700e+01, 4.460e+02, 2.950e+03, 1.358e+03]),\n",
       " array([1.139e+03, 1.000e+00, 3.600e+02, 3.400e+01, 4.030e+02, 9.710e+02,\n",
       "        1.200e+01, 1.570e+02])]"
      ]
     },
     "execution_count": 45,
     "metadata": {},
     "output_type": "execute_result"
    }
   ],
   "source": [
    "train_test_split(unscaled_inputs, targets)"
   ]
  },
  {
   "cell_type": "code",
   "execution_count": 55,
   "metadata": {},
   "outputs": [],
   "source": [
    "x_train, x_test, y_train, y_test = train_test_split(unscaled_inputs, targets, #train_size = 0.8, \n",
    "                                                                            test_size = 0.2, random_state = 20)"
   ]
  },
  {
   "cell_type": "code",
   "execution_count": 56,
   "metadata": {},
   "outputs": [
    {
     "name": "stdout",
     "output_type": "stream",
     "text": [
      "(25, 7) (25,)\n"
     ]
    }
   ],
   "source": [
    "print (x_train.shape, y_train.shape)"
   ]
  },
  {
   "cell_type": "code",
   "execution_count": 57,
   "metadata": {},
   "outputs": [
    {
     "name": "stdout",
     "output_type": "stream",
     "text": [
      "(7, 7) (7,)\n"
     ]
    }
   ],
   "source": [
    "print (x_test.shape, y_test.shape)"
   ]
  },
  {
   "cell_type": "code",
   "execution_count": 58,
   "metadata": {},
   "outputs": [],
   "source": [
    "from sklearn.linear_model import LinearRegression\n",
    "from sklearn import metrics"
   ]
  },
  {
   "cell_type": "markdown",
   "metadata": {},
   "source": [
    "# Linear Regression"
   ]
  },
  {
   "cell_type": "code",
   "execution_count": 59,
   "metadata": {},
   "outputs": [],
   "source": [
    "reg=LinearRegression()"
   ]
  },
  {
   "cell_type": "code",
   "execution_count": 60,
   "metadata": {},
   "outputs": [
    {
     "data": {
      "text/plain": [
       "LinearRegression(copy_X=True, fit_intercept=True, n_jobs=None, normalize=False)"
      ]
     },
     "execution_count": 60,
     "metadata": {},
     "output_type": "execute_result"
    }
   ],
   "source": [
    "reg.fit(x_train,y_train)"
   ]
  },
  {
   "cell_type": "code",
   "execution_count": 61,
   "metadata": {},
   "outputs": [
    {
     "data": {
      "text/plain": [
       "0.6918926993149765"
      ]
     },
     "execution_count": 61,
     "metadata": {},
     "output_type": "execute_result"
    }
   ],
   "source": [
    "reg.score(x_train,y_train)"
   ]
  },
  {
   "cell_type": "code",
   "execution_count": 62,
   "metadata": {},
   "outputs": [
    {
     "data": {
      "text/plain": [
       "-29409.799258388164"
      ]
     },
     "execution_count": 62,
     "metadata": {},
     "output_type": "execute_result"
    }
   ],
   "source": [
    "reg.intercept_"
   ]
  },
  {
   "cell_type": "code",
   "execution_count": 63,
   "metadata": {},
   "outputs": [
    {
     "data": {
      "text/plain": [
       "array([   6.35943699,  657.67802303,  -28.11380795,   31.49525172,\n",
       "       -639.10385365,  209.63178048,  -49.48801728])"
      ]
     },
     "execution_count": 63,
     "metadata": {},
     "output_type": "execute_result"
    }
   ],
   "source": [
    "reg.coef_"
   ]
  },
  {
   "cell_type": "code",
   "execution_count": 64,
   "metadata": {},
   "outputs": [],
   "source": [
    "featurename = unscaled_inputs.columns.values"
   ]
  },
  {
   "cell_type": "code",
   "execution_count": 65,
   "metadata": {},
   "outputs": [
    {
     "data": {
      "text/html": [
       "<div>\n",
       "<style scoped>\n",
       "    .dataframe tbody tr th:only-of-type {\n",
       "        vertical-align: middle;\n",
       "    }\n",
       "\n",
       "    .dataframe tbody tr th {\n",
       "        vertical-align: top;\n",
       "    }\n",
       "\n",
       "    .dataframe thead th {\n",
       "        text-align: right;\n",
       "    }\n",
       "</style>\n",
       "<table border=\"1\" class=\"dataframe\">\n",
       "  <thead>\n",
       "    <tr style=\"text-align: right;\">\n",
       "      <th></th>\n",
       "      <th>Feature name</th>\n",
       "      <th>Coefficient</th>\n",
       "    </tr>\n",
       "  </thead>\n",
       "  <tbody>\n",
       "    <tr>\n",
       "      <th>0</th>\n",
       "      <td>windspeedKmph</td>\n",
       "      <td>6.359437</td>\n",
       "    </tr>\n",
       "    <tr>\n",
       "      <th>1</th>\n",
       "      <td>tempC</td>\n",
       "      <td>657.678023</td>\n",
       "    </tr>\n",
       "    <tr>\n",
       "      <th>2</th>\n",
       "      <td>humidity</td>\n",
       "      <td>-28.113808</td>\n",
       "    </tr>\n",
       "    <tr>\n",
       "      <th>3</th>\n",
       "      <td>pressure</td>\n",
       "      <td>31.495252</td>\n",
       "    </tr>\n",
       "    <tr>\n",
       "      <th>4</th>\n",
       "      <td>HeatIndexC</td>\n",
       "      <td>-639.103854</td>\n",
       "    </tr>\n",
       "    <tr>\n",
       "      <th>5</th>\n",
       "      <td>precipMM</td>\n",
       "      <td>209.631780</td>\n",
       "    </tr>\n",
       "    <tr>\n",
       "      <th>6</th>\n",
       "      <td>Month Value</td>\n",
       "      <td>-49.488017</td>\n",
       "    </tr>\n",
       "  </tbody>\n",
       "</table>\n",
       "</div>"
      ],
      "text/plain": [
       "    Feature name  Coefficient\n",
       "0  windspeedKmph     6.359437\n",
       "1          tempC   657.678023\n",
       "2       humidity   -28.113808\n",
       "3       pressure    31.495252\n",
       "4     HeatIndexC  -639.103854\n",
       "5       precipMM   209.631780\n",
       "6    Month Value   -49.488017"
      ]
     },
     "execution_count": 65,
     "metadata": {},
     "output_type": "execute_result"
    }
   ],
   "source": [
    "summary_table = pd.DataFrame (columns=['Feature name'], data = featurename)\n",
    "\n",
    "summary_table['Coefficient'] = np.transpose(reg.coef_)\n",
    "\n",
    "summary_table"
   ]
  },
  {
   "cell_type": "markdown",
   "metadata": {},
   "source": [
    "# Logistic Regression"
   ]
  },
  {
   "cell_type": "code",
   "execution_count": 66,
   "metadata": {},
   "outputs": [
    {
     "data": {
      "text/plain": [
       "[    windspeedKmph     tempC  humidity  pressure  HeatIndexC  precipMM  \\\n",
       " 30       0.397347  0.690377 -0.288658  0.654734    0.658018 -0.641189   \n",
       " 2        1.591351  0.523854  0.241337 -1.669884    0.548062  0.512726   \n",
       " 25      -0.021602 -1.141378 -2.134178  1.412979   -1.156257 -0.641189   \n",
       " 21      -1.990661  1.800532  0.477942  0.844295    1.757579 -0.641189   \n",
       " 7       -0.272971 -0.364269  1.301328 -1.480323   -0.386564  1.883000   \n",
       " 18      -2.074451  1.689516  0.421157  0.265635    1.647623 -0.623159   \n",
       " 16      -0.964237 -0.031223  0.487406  0.375381   -0.056696 -0.551040   \n",
       " 3        0.962928 -0.475285  0.269730 -1.779630   -0.496520 -0.478920   \n",
       " 22       0.271662  0.468346 -0.203480  0.924110    0.438106 -0.551040   \n",
       " 12       1.675140  0.856901  1.206686 -0.722078    1.152821  2.892676   \n",
       " 23       0.921033 -0.752824 -0.600977  1.063787   -0.771410 -0.641189   \n",
       " 28      -0.021602 -0.697316 -1.386506  0.684665   -0.716432 -0.641189   \n",
       " 1        0.334504 -1.696455  0.695619 -0.223233   -1.596081  0.025918   \n",
       " 15       0.837243 -0.086731  0.070982  0.026189   -0.111674 -0.496950   \n",
       " 13       0.481136  1.745024  0.979545 -0.422771    1.867535  2.009210   \n",
       " 14       2.240721  0.912408 -0.383300 -0.472656    0.932908  0.783175   \n",
       " 9       -0.985184 -0.308762  0.402229  0.076074   -0.331586 -0.623159   \n",
       " 24       0.858190 -1.030362 -1.452755  1.273302   -1.046301 -0.641189   \n",
       " 19      -1.173711  0.912408 -0.742940  1.053810    0.877930 -0.641189   \n",
       " 8       -0.000655 -0.586300  1.168829 -1.610022   -0.606476  2.027239   \n",
       " 29       0.125030  0.579362 -0.487406  0.485127    0.548062 -0.641189   \n",
       " 4       -0.733815 -0.641808  1.130972 -1.989145   -0.661454  0.638935   \n",
       " 17      -0.000655  1.023424  0.572584 -0.063603    0.987886 -0.605129   \n",
       " 31       1.214297 -1.085870 -1.112044  1.163556   -1.101279 -0.514980   \n",
       " \n",
       "     Month Value  \n",
       " 30     0.321634  \n",
       " 2     -3.109126  \n",
       " 25     0.321634  \n",
       " 21     0.321634  \n",
       " 7      0.321634  \n",
       " 18     0.321634  \n",
       " 16     0.321634  \n",
       " 3      0.321634  \n",
       " 22     0.321634  \n",
       " 12     0.321634  \n",
       " 23     0.321634  \n",
       " 28     0.321634  \n",
       " 1     -3.109126  \n",
       " 15     0.321634  \n",
       " 13     0.321634  \n",
       " 14     0.321634  \n",
       " 9      0.321634  \n",
       " 24     0.321634  \n",
       " 19     0.321634  \n",
       " 8      0.321634  \n",
       " 29     0.321634  \n",
       " 4      0.321634  \n",
       " 17     0.321634  \n",
       " 31     0.321634  ,\n",
       "     windspeedKmph     tempC  humidity  pressure  HeatIndexC  precipMM  \\\n",
       " 0       -0.608130 -2.085009  1.168829 -1.041339   -1.980927  1.792850   \n",
       " 6       -0.922342 -0.253254  0.619905 -0.432748   -0.276608 -0.496950   \n",
       " 27      -0.817605 -0.530793 -2.077392  1.013903   -0.551498 -0.641189   \n",
       " 26      -0.503393 -0.808331 -2.209891  1.293256   -0.826389 -0.641189   \n",
       " 11      -0.126339 -0.031223  0.733476 -0.283095   -0.056696 -0.316651   \n",
       " 20      -0.922342  1.800532 -0.042589  0.924110    1.757579 -0.641189   \n",
       " 10       0.879138  0.412839  0.771332 -0.233210    0.383128  0.025918   \n",
       " 5       -0.650025 -0.808331  0.402229 -1.111177   -0.826389 -0.280591   \n",
       " \n",
       "     Month Value  \n",
       " 0     -3.109126  \n",
       " 6      0.321634  \n",
       " 27     0.321634  \n",
       " 26     0.321634  \n",
       " 11     0.321634  \n",
       " 20     0.321634  \n",
       " 10     0.321634  \n",
       " 5      0.321634  ,\n",
       " array([1, 0, 1, 1, 0, 1, 1, 0, 1, 0, 1, 1, 0, 0, 0, 0, 0, 1, 1, 0, 1, 0,\n",
       "        1, 1]),\n",
       " array([0, 0, 1, 1, 0, 1, 0, 0])]"
      ]
     },
     "execution_count": 66,
     "metadata": {},
     "output_type": "execute_result"
    }
   ],
   "source": [
    "train_test_split(scaled_inputs2, targets2)"
   ]
  },
  {
   "cell_type": "code",
   "execution_count": 67,
   "metadata": {},
   "outputs": [],
   "source": [
    "x_train, x_test, y_train, y_test = train_test_split(unscaled_inputs2, targets2, #train_size = 0.8, \n",
    "                                                                            test_size = 0.2, random_state = 20)"
   ]
  },
  {
   "cell_type": "code",
   "execution_count": 73,
   "metadata": {},
   "outputs": [],
   "source": [
    "from sklearn.linear_model import LogisticRegression"
   ]
  },
  {
   "cell_type": "raw",
   "metadata": {},
   "source": [
    "reg=LogisticRegression()"
   ]
  },
  {
   "cell_type": "code",
   "execution_count": 75,
   "metadata": {},
   "outputs": [
    {
     "data": {
      "text/plain": [
       "0.7560397183435352"
      ]
     },
     "execution_count": 75,
     "metadata": {},
     "output_type": "execute_result"
    }
   ],
   "source": [
    "reg.fit(x_train,y_train)\n",
    "reg.score(x_train,y_train)"
   ]
  },
  {
   "cell_type": "code",
   "execution_count": 76,
   "metadata": {},
   "outputs": [
    {
     "data": {
      "text/plain": [
       "-27.793503085151205"
      ]
     },
     "execution_count": 76,
     "metadata": {},
     "output_type": "execute_result"
    }
   ],
   "source": [
    "reg.intercept_"
   ]
  },
  {
   "cell_type": "code",
   "execution_count": 77,
   "metadata": {},
   "outputs": [
    {
     "data": {
      "text/plain": [
       "array([-0.00895209,  0.62760735, -0.00585961,  0.02877901, -0.5827115 ,\n",
       "        0.04720521, -0.20894895])"
      ]
     },
     "execution_count": 77,
     "metadata": {},
     "output_type": "execute_result"
    }
   ],
   "source": [
    "reg.coef_"
   ]
  },
  {
   "cell_type": "code",
   "execution_count": 78,
   "metadata": {},
   "outputs": [],
   "source": [
    "featurename2 = unscaled_inputs2.columns.values"
   ]
  },
  {
   "cell_type": "code",
   "execution_count": 79,
   "metadata": {},
   "outputs": [
    {
     "data": {
      "text/html": [
       "<div>\n",
       "<style scoped>\n",
       "    .dataframe tbody tr th:only-of-type {\n",
       "        vertical-align: middle;\n",
       "    }\n",
       "\n",
       "    .dataframe tbody tr th {\n",
       "        vertical-align: top;\n",
       "    }\n",
       "\n",
       "    .dataframe thead th {\n",
       "        text-align: right;\n",
       "    }\n",
       "</style>\n",
       "<table border=\"1\" class=\"dataframe\">\n",
       "  <thead>\n",
       "    <tr style=\"text-align: right;\">\n",
       "      <th></th>\n",
       "      <th>Feature name</th>\n",
       "      <th>Coefficient</th>\n",
       "    </tr>\n",
       "  </thead>\n",
       "  <tbody>\n",
       "    <tr>\n",
       "      <th>0</th>\n",
       "      <td>windspeedKmph</td>\n",
       "      <td>-0.008952</td>\n",
       "    </tr>\n",
       "    <tr>\n",
       "      <th>1</th>\n",
       "      <td>tempC</td>\n",
       "      <td>0.627607</td>\n",
       "    </tr>\n",
       "    <tr>\n",
       "      <th>2</th>\n",
       "      <td>humidity</td>\n",
       "      <td>-0.005860</td>\n",
       "    </tr>\n",
       "    <tr>\n",
       "      <th>3</th>\n",
       "      <td>pressure</td>\n",
       "      <td>0.028779</td>\n",
       "    </tr>\n",
       "    <tr>\n",
       "      <th>4</th>\n",
       "      <td>HeatIndexC</td>\n",
       "      <td>-0.582712</td>\n",
       "    </tr>\n",
       "    <tr>\n",
       "      <th>5</th>\n",
       "      <td>precipMM</td>\n",
       "      <td>0.047205</td>\n",
       "    </tr>\n",
       "    <tr>\n",
       "      <th>6</th>\n",
       "      <td>Month Value</td>\n",
       "      <td>-0.208949</td>\n",
       "    </tr>\n",
       "  </tbody>\n",
       "</table>\n",
       "</div>"
      ],
      "text/plain": [
       "    Feature name  Coefficient\n",
       "0  windspeedKmph    -0.008952\n",
       "1          tempC     0.627607\n",
       "2       humidity    -0.005860\n",
       "3       pressure     0.028779\n",
       "4     HeatIndexC    -0.582712\n",
       "5       precipMM     0.047205\n",
       "6    Month Value    -0.208949"
      ]
     },
     "execution_count": 79,
     "metadata": {},
     "output_type": "execute_result"
    }
   ],
   "source": [
    "summary_table = pd.DataFrame (columns=['Feature name'], data = featurename2)\n",
    "\n",
    "summary_table['Coefficient'] = np.transpose(reg.coef_)\n",
    "\n",
    "summary_table"
   ]
  },
  {
   "cell_type": "code",
   "execution_count": null,
   "metadata": {},
   "outputs": [],
   "source": []
  }
 ],
 "metadata": {
  "kernelspec": {
   "display_name": "Python 3",
   "language": "python",
   "name": "python3"
  },
  "language_info": {
   "codemirror_mode": {
    "name": "ipython",
    "version": 3
   },
   "file_extension": ".py",
   "mimetype": "text/x-python",
   "name": "python",
   "nbconvert_exporter": "python",
   "pygments_lexer": "ipython3",
   "version": "3.7.6"
  }
 },
 "nbformat": 4,
 "nbformat_minor": 4
}
