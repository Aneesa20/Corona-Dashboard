{
 "cells": [
  {
   "cell_type": "markdown",
   "metadata": {},
   "source": [
    "# Imports"
   ]
  },
  {
   "cell_type": "code",
   "execution_count": 30,
   "metadata": {
    "ExecuteTime": {
     "end_time": "2020-04-29T13:02:30.833490Z",
     "start_time": "2020-04-29T13:02:30.191959Z"
    }
   },
   "outputs": [],
   "source": [
    "import pandas as pd\n",
    "import numpy as np\n",
    "import matplotlib.pyplot as plt\n",
    "import plotly.express as px\n",
    "from googletrans import Translator\n",
    "import plotly.offline as pyo\n",
    "import plotly.graph_objs as go\n",
    "from scipy.integrate import odeint\n",
    "from scipy import optimize\n",
    "import statsmodels.api as sm\n",
    "from sklearn import preprocessing\n"
   ]
  },
  {
   "cell_type": "markdown",
   "metadata": {},
   "source": [
    "# Data reads and preprocessing"
   ]
  },
  {
   "cell_type": "code",
   "execution_count": 4,
   "metadata": {
    "ExecuteTime": {
     "end_time": "2020-04-29T12:39:06.491324Z",
     "start_time": "2020-04-29T12:38:11.387996Z"
    }
   },
   "outputs": [],
   "source": [
    "demographics = pd.read_csv('Data_municipality-demographics.csv',sep=';')\n",
    "cases = pd.read_csv('https://raw.githubusercontent.com/J535D165/CoronaWatchNL/master/data/rivm_NL_covid19_total_municipality.csv')\n",
    "income = pd.read_csv('municipality-AvgIncomePerPerson.csv',sep = ';')\n",
    "\n",
    "# Translating the columns\n",
    "translator = Translator()\n",
    "demographics.rename(columns = lambda x : translator.translate(x).text, inplace =True)\n",
    "cases.rename(columns = lambda x : translator.translate(x).text, inplace =True)\n",
    "income.rename(columns = lambda x : translator.translate(x).text, inplace =True)\n",
    "\n",
    "# Removing commas and changing the datatypes\n",
    "for i in range (1,demographics.shape[1]):\n",
    "    if (demographics.iloc[:,i]).dtype == 'object':\n",
    "        demographics.iloc[:,i] = demographics.iloc[:,i].str.replace(',','.')\n",
    "        demographics.iloc[:,i] = demographics.iloc[:,i].astype('float')\n",
    "\n",
    "income = income.dropna(axis=1)\n",
    "for i in range (1,income.shape[1]):\n",
    "    if (income.iloc[:,i]).dtype == 'object':\n",
    "        income.iloc[:,i] = income.iloc[:,i].replace('?','0')\n",
    "        income.iloc[:,i] = income.iloc[:,i].str.replace(',','.')\n",
    "        income.iloc[:,i] = income.iloc[:,i].astype('float')\n",
    "\n",
    "# Getting the province and muncipality names\n",
    "province = cases.iloc[:,np.r_[1,2,3]]\n",
    "province = province.drop_duplicates()\n",
    "province = province.reset_index(drop=True)\n",
    "province = province.dropna()\n",
    "province = province.rename(columns={'municipality Name':'Municipalities'})\n",
    "\n",
    "# Calculating the percentages\n",
    "demographics.iloc[:,np.r_[4:20]] = demographics.iloc[:,np.r_[4:20]].div(demographics.iloc[:,1], axis=0)\n",
    "demographics.iloc[:,np.r_[26:28]] = demographics.iloc[:,np.r_[26:28]].div(demographics.iloc[:,25], axis=0)\n",
    "demographics.iloc[:,np.r_[24:26]] = demographics.iloc[:,np.r_[24:26]].div(demographics.iloc[:,23], axis=0)\n",
    "\n",
    "# Aggregating the total cases per muncipality\n",
    "cases = cases.dropna()\n",
    "cases = cases.rename(columns = {'municipality Name':'Municipalities'})\n",
    "grp1 = cases.groupby('Municipalities',as_index=False)['Number'].sum()\n",
    "\n",
    "# joining the data\n",
    "joined_data = pd.merge(demographics,grp1,how='left',on='Municipalities')\n",
    "joined_data = pd.merge(joined_data,income.iloc[:,np.r_[0,8]],how='left',on='Municipalities')\n",
    "joined_data = pd.merge(joined_data,province,how='left',on='Municipalities')\n",
    "\n",
    "joined_data = joined_data.rename(columns={'Number':'Cases'})\n",
    "joined_data.Cases = joined_data.Cases.fillna(0)\n",
    "joined_data.Provincienaam = joined_data.Provincienaam.fillna('NULL')"
   ]
  },
  {
   "cell_type": "markdown",
   "metadata": {},
   "source": [
    "# SIR model"
   ]
  },
  {
   "cell_type": "code",
   "execution_count": 67,
   "metadata": {
    "ExecuteTime": {
     "end_time": "2020-04-29T13:49:50.355434Z",
     "start_time": "2020-04-29T13:49:34.954226Z"
    }
   },
   "outputs": [
    {
     "name": "stdout",
     "output_type": "stream",
     "text": [
      "Optimal parameters: beta = 2.213303193603586  and gamma =  2.0395876569618743\n"
     ]
    },
    {
     "data": {
      "text/plain": [
       "'temp-plot.html'"
      ]
     },
     "execution_count": 67,
     "metadata": {},
     "output_type": "execute_result"
    }
   ],
   "source": [
    "def sirmodel(municipalityname):\n",
    "    ydata = cases[cases.Municipalities==str(municipalityname)]['Number'] # From cases data\n",
    "    ydata = list(ydata)\n",
    "    ydata = list(filter(lambda a: a != 0, ydata))\n",
    "    xdata = list(range(1,len(ydata)+1))\n",
    "    ydata = np.array(ydata, dtype=float)\n",
    "    xdata = np.array(xdata, dtype=float)\n",
    "    \n",
    "    population = demographics[demographics.Municipalities==str(municipalityname)]['Population total | 2019'] # From demographics data\n",
    "    N = population # total population\n",
    "    inf0 = ydata[0] # Initial no of infections\n",
    "    sus0 = N - inf0 # initial no of suceptibles\n",
    "    rec0 = 0.0 # initial no of recovered ppl\n",
    "    beta, gamma = 0.7, 0.2 # initial parameters - Infection rate and receovery rate. This decides the model structure\n",
    "    \n",
    "    def sir_model(y, x, beta, gamma):\n",
    "        sus = -beta * y[0] * y[1] / N\n",
    "        rec = gamma * y[1]\n",
    "        inf = -(sus + rec)\n",
    "        return sus, inf, rec\n",
    "    \n",
    "    def fit_odeint(x, beta, gamma):\n",
    "        return odeint(sir_model, (sus0, inf0, rec0), x, args=(beta, gamma))[:,1] # Solving the differential equation\n",
    "    \n",
    "    popt, pcov = optimize.curve_fit(fit_odeint, xdata, ydata) # optimizing the beta and gamma values to fit the data \n",
    "    fitted = fit_odeint(xdata, *popt) # using the optimized beta and gamma values to generate the model\n",
    "    \n",
    "    # Plotting the data and model    \n",
    "    fig = go.Figure()\n",
    "    fig.add_trace(go.Scatter(\n",
    "        x = xdata, y = ydata, mode = 'markers', name = 'Data'\n",
    "        ))\n",
    "    fig.add_trace(go.Scatter(\n",
    "        x = xdata, y = fitted, mode = 'lines', name = 'Fitted_line', line = dict(color = 'red')\n",
    "        ))\n",
    "    \n",
    "    fig.update_layout(\n",
    "                title = 'SIR plot',\n",
    "                xaxis = dict(title = 'Days'),\n",
    "                yaxis = dict(title = 'Population'))\n",
    "    fig.update_xaxes(nticks=80, tickangle=270, gridwidth=0.1)\n",
    "    print(\"Optimal parameters: beta =\", popt[0], \" and gamma = \", popt[1])\n",
    "    return pyo.plot(fig) \n",
    "\n",
    "sirmodel('Tilburg')"
   ]
  },
  {
   "cell_type": "markdown",
   "metadata": {
    "ExecuteTime": {
     "end_time": "2020-04-29T13:57:30.343910Z",
     "start_time": "2020-04-29T13:57:30.337832Z"
    }
   },
   "source": [
    "\n",
    "The results of the SIR model is not so great. It didn't generalise the data well. We need to look for other options"
   ]
  },
  {
   "cell_type": "markdown",
   "metadata": {},
   "source": [
    "# Feature Importance"
   ]
  },
  {
   "cell_type": "code",
   "execution_count": 50,
   "metadata": {
    "ExecuteTime": {
     "end_time": "2020-04-29T13:17:41.169938Z",
     "start_time": "2020-04-29T13:17:41.164898Z"
    }
   },
   "outputs": [],
   "source": [
    "df = joined_data.copy()"
   ]
  },
  {
   "cell_type": "code",
   "execution_count": 51,
   "metadata": {
    "ExecuteTime": {
     "end_time": "2020-04-29T13:17:41.690266Z",
     "start_time": "2020-04-29T13:17:41.682821Z"
    }
   },
   "outputs": [
    {
     "name": "stdout",
     "output_type": "stream",
     "text": [
      "(0, 'Municipalities')\n",
      "(1, 'Population total | 2019')\n",
      "(2, 'Age population | 2019')\n",
      "(3, 'Population density | 2019')\n",
      "(4, 'Population -4 years | 2019')\n",
      "(5, 'Population 5-9 years | 2019')\n",
      "(6, 'Population 10-14 years | 2019')\n",
      "(7, 'Population -14 years | 2019')\n",
      "(8, 'Population 15-24 | 2019')\n",
      "(9, 'Population 25-34 | 2019')\n",
      "(10, 'Population 35-44 | 2019')\n",
      "(11, 'Population 45-54 | 2019')\n",
      "(12, 'Population 55-64 | 2019')\n",
      "(13, 'Population 65-74 | 2019')\n",
      "(14, 'Population 75-84 years | 2019')\n",
      "(15, 'Population 85+ years | 2019')\n",
      "(16, 'Population 25-44 years | 2019')\n",
      "(17, 'Population 45-64 years | 2019')\n",
      "(18, 'Population total women | 2019')\n",
      "(19, 'Population total Men | 2019')\n",
      "(20, 'Green pressure (relative -19 20-64) | 2019')\n",
      "(21, 'Gray pressure (relative 65+ 20-64) | 2019')\n",
      "(22, 'Demographic (Green + Gray pressure compared to 20-64) | 2019')\n",
      "(23, 'Households total | 2019')\n",
      "(24, 'Households alone total | 2019')\n",
      "(25, 'Households living together total | 2019')\n",
      "(26, 'Households living together without children Total | 2019')\n",
      "(27, 'Households living together with children and single-parent families Total | 2019')\n",
      "(28, 'Single-parent households, total | 2019')\n",
      "(29, 'Persons per household | 2019')\n",
      "(30, 'Cases')\n",
      "(31, 'Avg. PI. per person by household position | 2018')\n",
      "(32, 'Municipal Code')\n",
      "(33, 'Provincienaam')\n"
     ]
    }
   ],
   "source": [
    "for i in enumerate(df.columns):\n",
    "    print(i)"
   ]
  },
  {
   "cell_type": "code",
   "execution_count": 52,
   "metadata": {
    "ExecuteTime": {
     "end_time": "2020-04-29T13:17:42.380932Z",
     "start_time": "2020-04-29T13:17:42.371772Z"
    }
   },
   "outputs": [
    {
     "name": "stdout",
     "output_type": "stream",
     "text": [
      "(0, 'Municipalities')\n",
      "(1, 'Population total | 2019')\n",
      "(2, 'Age population | 2019')\n",
      "(3, 'Population density | 2019')\n",
      "(4, 'Population 25-44 years | 2019')\n",
      "(5, 'Population 45-64 years | 2019')\n",
      "(6, 'Households total | 2019')\n",
      "(7, 'Cases')\n",
      "(8, 'Avg. PI. per person by household position | 2018')\n",
      "(9, 'Provincienaam')\n"
     ]
    }
   ],
   "source": [
    "df = df.iloc[:,np.r_[0:4,16,17,23,30,31,33]] # selecting subset of the columns\n",
    "for i in enumerate(df.columns):\n",
    "    print(i)"
   ]
  },
  {
   "cell_type": "code",
   "execution_count": 59,
   "metadata": {
    "ExecuteTime": {
     "end_time": "2020-04-29T13:18:17.468396Z",
     "start_time": "2020-04-29T13:18:17.459135Z"
    }
   },
   "outputs": [],
   "source": [
    "X = df.iloc[:,np.r_[1:7,8]]\n",
    "Y = df['Cases']"
   ]
  },
  {
   "cell_type": "markdown",
   "metadata": {},
   "source": [
    "# Backward Elimination"
   ]
  },
  {
   "cell_type": "code",
   "execution_count": 60,
   "metadata": {
    "ExecuteTime": {
     "end_time": "2020-04-29T13:18:19.706137Z",
     "start_time": "2020-04-29T13:18:19.675534Z"
    }
   },
   "outputs": [],
   "source": [
    "def backward_elimination(data, pvalue):\n",
    "    l = len(data.columns)\n",
    "    for i in range(0,l):\n",
    "        ols = sm.OLS(Y,data).fit()\n",
    "        pvalues = ols.pvalues\n",
    "        if max(pvalues) > pvalue:\n",
    "            colname = pvalues.idxmax()\n",
    "            data = data.drop(colname,axis=1)\n",
    "    return data\n",
    "\n",
    "X = backward_elimination(X, 0.1)"
   ]
  },
  {
   "cell_type": "code",
   "execution_count": 65,
   "metadata": {
    "ExecuteTime": {
     "end_time": "2020-04-29T13:47:42.036907Z",
     "start_time": "2020-04-29T13:47:42.032027Z"
    }
   },
   "outputs": [
    {
     "name": "stdout",
     "output_type": "stream",
     "text": [
      "Index(['Population density | 2019', 'Population 25-44 years | 2019',\n",
      "       'Households total | 2019'],\n",
      "      dtype='object')\n"
     ]
    }
   ],
   "source": [
    "print(X.columns)"
   ]
  },
  {
   "cell_type": "markdown",
   "metadata": {},
   "source": [
    "# Questions"
   ]
  },
  {
   "cell_type": "markdown",
   "metadata": {},
   "source": [
    "\n",
    "- How can we model a time series that is dependent on time and other variables as well?\n",
    "- Which level of aggregation is appropiate daily or weekly or bi weekly\n",
    "- Can we use the lagged values of cases as an input to the model (For example using first week number of cases to predict the second week number of cases)\n",
    "- What are the methods we can use to extract the features?"
   ]
  }
 ],
 "metadata": {
  "kernelspec": {
   "display_name": "Python 3",
   "language": "python",
   "name": "python3"
  },
  "language_info": {
   "codemirror_mode": {
    "name": "ipython",
    "version": 3
   },
   "file_extension": ".py",
   "mimetype": "text/x-python",
   "name": "python",
   "nbconvert_exporter": "python",
   "pygments_lexer": "ipython3",
   "version": "3.7.7"
  },
  "toc": {
   "base_numbering": 1,
   "nav_menu": {},
   "number_sections": true,
   "sideBar": true,
   "skip_h1_title": false,
   "title_cell": "Table of Contents",
   "title_sidebar": "Contents",
   "toc_cell": false,
   "toc_position": {},
   "toc_section_display": true,
   "toc_window_display": false
  },
  "varInspector": {
   "cols": {
    "lenName": 16,
    "lenType": 16,
    "lenVar": 40
   },
   "kernels_config": {
    "python": {
     "delete_cmd_postfix": "",
     "delete_cmd_prefix": "del ",
     "library": "var_list.py",
     "varRefreshCmd": "print(var_dic_list())"
    },
    "r": {
     "delete_cmd_postfix": ") ",
     "delete_cmd_prefix": "rm(",
     "library": "var_list.r",
     "varRefreshCmd": "cat(var_dic_list()) "
    }
   },
   "types_to_exclude": [
    "module",
    "function",
    "builtin_function_or_method",
    "instance",
    "_Feature"
   ],
   "window_display": false
  }
 },
 "nbformat": 4,
 "nbformat_minor": 2
}
